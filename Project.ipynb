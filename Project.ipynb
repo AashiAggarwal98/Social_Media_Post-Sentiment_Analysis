{
 "cells": [
  {
   "cell_type": "markdown",
   "metadata": {},
   "source": [
    "## Project: Sentiment Analysis for Social Media Data\n",
    "### By: Arsalan, Akash and Aashi"
   ]
  },
  {
   "cell_type": "code",
   "execution_count": 386,
   "metadata": {},
   "outputs": [],
   "source": [
    "from pprint import pprint\n",
    "import pandas as pd\n",
    "import numpy as np\n",
    "import praw\n",
    "import nltk\n",
    "from nltk.sentiment.vader import SentimentIntensityAnalyzer as sa \n",
    "import re\n",
    "from nltk.tokenize import word_tokenize\n",
    "from nltk.corpus import stopwords\n",
    "from nltk.stem import WordNetLemmatizer\n",
    "import gensim.downloader as api\n",
    "from sklearn.feature_extraction.text import TfidfVectorizer\n",
    "from sklearn.feature_extraction.text import CountVectorizer\n",
    "from sklearn.model_selection import train_test_split\n",
    "from sklearn.svm import SVC\n",
    "from sklearn.metrics import classification_report\n",
    "from sklearn.metrics.pairwise import cosine_similarity\n",
    "from sklearn.metrics import confusion_matrix\n",
    "import seaborn as sns\n",
    "import matplotlib.pyplot as plt\n"
   ]
  },
  {
   "cell_type": "code",
   "execution_count": 387,
   "metadata": {},
   "outputs": [],
   "source": [
    "#defining the praw reddit tool\n",
    "user_agent = \"Data 1.0\"\n",
    "reddit = praw.Reddit(\n",
    "    client_id=\"eMB6WKPL5okjyK0HEp-jLA\",\n",
    "    client_secret=\"nI8rPm-U8OVJGbhxx5EplOsZlAEsiA\",\n",
    "    user_agent=user_agent\n",
    ")"
   ]
  },
  {
   "cell_type": "markdown",
   "metadata": {},
   "source": [
    "Accessing data from  subreddits named : \"Worldnews\", \"sadp', \"Dreams\" and \"happy\"."
   ]
  },
  {
   "cell_type": "code",
   "execution_count": 388,
   "metadata": {},
   "outputs": [
    {
     "name": "stdout",
     "output_type": "stream",
     "text": [
      "Amount of lines generated: 3323\n"
     ]
    }
   ],
   "source": [
    "\n",
    "titles = set() #to restrict repetition of titles\n",
    "\n",
    "def extract_remaining_rate_limit(response_headers):  #for esuring there is no problem with extracting titles\n",
    "    try:\n",
    "        #extract remaining rate limit value from response headers\n",
    "        remaining_rate_limit = float(response_headers.get(\"x-ratelimit-remaining\", \"0\").split(',')[0])\n",
    "        return remaining_rate_limit\n",
    "    except ValueError:\n",
    "        return 0  # Return 0 if there's an issue with the rate limit header\n",
    "\n",
    "#extracting titles from the subreddits\n",
    "for submission in reddit.subreddit('worldnews').new(limit= None):\n",
    "    titles.add(submission.title)\n",
    "    remaining_limit = extract_remaining_rate_limit(reddit.auth.limits)\n",
    "    \n",
    "for submission in reddit.subreddit('sad').new(limit=None):\n",
    "    titles.add(submission.title)\n",
    "    remaining_limit = extract_remaining_rate_limit(reddit.auth.limits)\n",
    "   \n",
    "for submission in reddit.subreddit('Dreams').new(limit= None):\n",
    "    titles.add(submission.title)\n",
    "    remaining_limit = extract_remaining_rate_limit(reddit.auth.limits)\n",
    "\n",
    "for submission in reddit.subreddit('happy').new(limit= None):\n",
    "    titles.add(submission.title)\n",
    "    remaining_limit = extract_remaining_rate_limit(reddit.auth.limits)\n",
    "   \n",
    "print(f\"Amount of lines generated: {len(titles)}\")"
   ]
  },
  {
   "cell_type": "markdown",
   "metadata": {},
   "source": [
    "Converting this data extracted to a dataframe"
   ]
  },
  {
   "cell_type": "code",
   "execution_count": 389,
   "metadata": {},
   "outputs": [],
   "source": [
    "data = pd.DataFrame(titles)\n",
    "data.head()\n",
    "data.to_csv(\"data.csv\", header=False, encoding='utf-8', index= False ) #converting it to a csv"
   ]
  },
  {
   "cell_type": "markdown",
   "metadata": {},
   "source": [
    "Using vader_lexicon for sentiment analysing"
   ]
  },
  {
   "cell_type": "code",
   "execution_count": 390,
   "metadata": {},
   "outputs": [
    {
     "name": "stderr",
     "output_type": "stream",
     "text": [
      "[nltk_data] Downloading package vader_lexicon to\n",
      "[nltk_data]     C:\\Users\\PC\\AppData\\Roaming\\nltk_data...\n",
      "[nltk_data]   Package vader_lexicon is already up-to-date!\n"
     ]
    },
    {
     "data": {
      "text/plain": [
       "True"
      ]
     },
     "execution_count": 390,
     "metadata": {},
     "output_type": "execute_result"
    }
   ],
   "source": [
    "nltk.download('vader_lexicon')"
   ]
  },
  {
   "cell_type": "code",
   "execution_count": 391,
   "metadata": {},
   "outputs": [
    {
     "name": "stdout",
     "output_type": "stream",
     "text": [
      "[{'Post': \"For the first time in weeks I'm excited for the future\", 'compound': 0.34, 'neg': 0.0, 'neu': 0.806, 'pos': 0.194},\n",
      " {'Post': 'French court orders return of deported Uzbek national in rebuke to interior minister',\n",
      "  'compound': 0.0,\n",
      "  'neg': 0.0,\n",
      "  'neu': 1.0,\n",
      "  'pos': 0.0},\n",
      " {'Post': 'Thousands of tons of dead sardines wash ashore in northern Japan', 'compound': -0.6486, 'neg': 0.301, 'neu': 0.699, 'pos': 0.0}]\n"
     ]
    }
   ],
   "source": [
    "sia = sa() #creating an analyser\n",
    "sentimented_sentences = []\n",
    "\n",
    "#doing a sentiment classification on the data extracted\n",
    "for i in titles:\n",
    "    score = sia.polarity_scores(i) #making a dictionary\n",
    "    score['Post'] = i\n",
    "    sentimented_sentences.append(score)\n",
    "\n",
    "pprint(sentimented_sentences[:3], width = 150)"
   ]
  },
  {
   "cell_type": "code",
   "execution_count": 392,
   "metadata": {},
   "outputs": [
    {
     "data": {
      "text/html": [
       "<div>\n",
       "<style scoped>\n",
       "    .dataframe tbody tr th:only-of-type {\n",
       "        vertical-align: middle;\n",
       "    }\n",
       "\n",
       "    .dataframe tbody tr th {\n",
       "        vertical-align: top;\n",
       "    }\n",
       "\n",
       "    .dataframe thead th {\n",
       "        text-align: right;\n",
       "    }\n",
       "</style>\n",
       "<table border=\"1\" class=\"dataframe\">\n",
       "  <thead>\n",
       "    <tr style=\"text-align: right;\">\n",
       "      <th></th>\n",
       "      <th>neg</th>\n",
       "      <th>neu</th>\n",
       "      <th>pos</th>\n",
       "      <th>compound</th>\n",
       "      <th>Post</th>\n",
       "    </tr>\n",
       "  </thead>\n",
       "  <tbody>\n",
       "    <tr>\n",
       "      <th>0</th>\n",
       "      <td>0.000</td>\n",
       "      <td>0.806</td>\n",
       "      <td>0.194</td>\n",
       "      <td>0.3400</td>\n",
       "      <td>For the first time in weeks I'm excited for th...</td>\n",
       "    </tr>\n",
       "    <tr>\n",
       "      <th>1</th>\n",
       "      <td>0.000</td>\n",
       "      <td>1.000</td>\n",
       "      <td>0.000</td>\n",
       "      <td>0.0000</td>\n",
       "      <td>French court orders return of deported Uzbek n...</td>\n",
       "    </tr>\n",
       "    <tr>\n",
       "      <th>2</th>\n",
       "      <td>0.301</td>\n",
       "      <td>0.699</td>\n",
       "      <td>0.000</td>\n",
       "      <td>-0.6486</td>\n",
       "      <td>Thousands of tons of dead sardines wash ashore...</td>\n",
       "    </tr>\n",
       "    <tr>\n",
       "      <th>3</th>\n",
       "      <td>0.439</td>\n",
       "      <td>0.561</td>\n",
       "      <td>0.000</td>\n",
       "      <td>-0.6908</td>\n",
       "      <td>What's the fastest way to kill yourself?</td>\n",
       "    </tr>\n",
       "    <tr>\n",
       "      <th>4</th>\n",
       "      <td>0.000</td>\n",
       "      <td>0.600</td>\n",
       "      <td>0.400</td>\n",
       "      <td>0.2500</td>\n",
       "      <td>Hair shaving in dream</td>\n",
       "    </tr>\n",
       "  </tbody>\n",
       "</table>\n",
       "</div>"
      ],
      "text/plain": [
       "     neg    neu    pos  compound  \\\n",
       "0  0.000  0.806  0.194    0.3400   \n",
       "1  0.000  1.000  0.000    0.0000   \n",
       "2  0.301  0.699  0.000   -0.6486   \n",
       "3  0.439  0.561  0.000   -0.6908   \n",
       "4  0.000  0.600  0.400    0.2500   \n",
       "\n",
       "                                                Post  \n",
       "0  For the first time in weeks I'm excited for th...  \n",
       "1  French court orders return of deported Uzbek n...  \n",
       "2  Thousands of tons of dead sardines wash ashore...  \n",
       "3           What's the fastest way to kill yourself?  \n",
       "4                              Hair shaving in dream  "
      ]
     },
     "metadata": {},
     "output_type": "display_data"
    }
   ],
   "source": [
    "df_sentimented = pd.DataFrame.from_records(sentimented_sentences) #making a new dataframe of the sentiment analysed dictionary\n",
    "\n",
    "display(df_sentimented.head())"
   ]
  },
  {
   "cell_type": "markdown",
   "metadata": {},
   "source": [
    "Giving the data in the dataframe a sentiment value: 1 for positive, -1 for negative and 0 for neutral"
   ]
  },
  {
   "cell_type": "code",
   "execution_count": 393,
   "metadata": {},
   "outputs": [
    {
     "data": {
      "text/html": [
       "<div>\n",
       "<style scoped>\n",
       "    .dataframe tbody tr th:only-of-type {\n",
       "        vertical-align: middle;\n",
       "    }\n",
       "\n",
       "    .dataframe tbody tr th {\n",
       "        vertical-align: top;\n",
       "    }\n",
       "\n",
       "    .dataframe thead th {\n",
       "        text-align: right;\n",
       "    }\n",
       "</style>\n",
       "<table border=\"1\" class=\"dataframe\">\n",
       "  <thead>\n",
       "    <tr style=\"text-align: right;\">\n",
       "      <th></th>\n",
       "      <th>neg</th>\n",
       "      <th>neu</th>\n",
       "      <th>pos</th>\n",
       "      <th>compound</th>\n",
       "      <th>Post</th>\n",
       "      <th>Sen Label</th>\n",
       "    </tr>\n",
       "  </thead>\n",
       "  <tbody>\n",
       "    <tr>\n",
       "      <th>0</th>\n",
       "      <td>0.000</td>\n",
       "      <td>0.806</td>\n",
       "      <td>0.194</td>\n",
       "      <td>0.3400</td>\n",
       "      <td>For the first time in weeks I'm excited for th...</td>\n",
       "      <td>1</td>\n",
       "    </tr>\n",
       "    <tr>\n",
       "      <th>1</th>\n",
       "      <td>0.000</td>\n",
       "      <td>1.000</td>\n",
       "      <td>0.000</td>\n",
       "      <td>0.0000</td>\n",
       "      <td>French court orders return of deported Uzbek n...</td>\n",
       "      <td>0</td>\n",
       "    </tr>\n",
       "    <tr>\n",
       "      <th>2</th>\n",
       "      <td>0.301</td>\n",
       "      <td>0.699</td>\n",
       "      <td>0.000</td>\n",
       "      <td>-0.6486</td>\n",
       "      <td>Thousands of tons of dead sardines wash ashore...</td>\n",
       "      <td>-1</td>\n",
       "    </tr>\n",
       "    <tr>\n",
       "      <th>3</th>\n",
       "      <td>0.439</td>\n",
       "      <td>0.561</td>\n",
       "      <td>0.000</td>\n",
       "      <td>-0.6908</td>\n",
       "      <td>What's the fastest way to kill yourself?</td>\n",
       "      <td>-1</td>\n",
       "    </tr>\n",
       "    <tr>\n",
       "      <th>4</th>\n",
       "      <td>0.000</td>\n",
       "      <td>0.600</td>\n",
       "      <td>0.400</td>\n",
       "      <td>0.2500</td>\n",
       "      <td>Hair shaving in dream</td>\n",
       "      <td>1</td>\n",
       "    </tr>\n",
       "  </tbody>\n",
       "</table>\n",
       "</div>"
      ],
      "text/plain": [
       "     neg    neu    pos  compound  \\\n",
       "0  0.000  0.806  0.194    0.3400   \n",
       "1  0.000  1.000  0.000    0.0000   \n",
       "2  0.301  0.699  0.000   -0.6486   \n",
       "3  0.439  0.561  0.000   -0.6908   \n",
       "4  0.000  0.600  0.400    0.2500   \n",
       "\n",
       "                                                Post  Sen Label  \n",
       "0  For the first time in weeks I'm excited for th...          1  \n",
       "1  French court orders return of deported Uzbek n...          0  \n",
       "2  Thousands of tons of dead sardines wash ashore...         -1  \n",
       "3           What's the fastest way to kill yourself?         -1  \n",
       "4                              Hair shaving in dream          1  "
      ]
     },
     "execution_count": 393,
     "metadata": {},
     "output_type": "execute_result"
    }
   ],
   "source": [
    "df_sentimented[\"Sen Label\"] = 0\n",
    "df_sentimented.loc[df_sentimented['compound'] > 0.2, \"Sen Label\"] = 1  \n",
    "df_sentimented.loc[df_sentimented['compound'] <  -0.2, \"Sen Label\"] = -1 \n",
    "df_sentimented.head()"
   ]
  },
  {
   "cell_type": "code",
   "execution_count": 394,
   "metadata": {},
   "outputs": [
    {
     "data": {
      "text/html": [
       "<div>\n",
       "<style scoped>\n",
       "    .dataframe tbody tr th:only-of-type {\n",
       "        vertical-align: middle;\n",
       "    }\n",
       "\n",
       "    .dataframe tbody tr th {\n",
       "        vertical-align: top;\n",
       "    }\n",
       "\n",
       "    .dataframe thead th {\n",
       "        text-align: right;\n",
       "    }\n",
       "</style>\n",
       "<table border=\"1\" class=\"dataframe\">\n",
       "  <thead>\n",
       "    <tr style=\"text-align: right;\">\n",
       "      <th></th>\n",
       "      <th>Post</th>\n",
       "      <th>Sen Label</th>\n",
       "    </tr>\n",
       "  </thead>\n",
       "  <tbody>\n",
       "    <tr>\n",
       "      <th>0</th>\n",
       "      <td>For the first time in weeks I'm excited for th...</td>\n",
       "      <td>1</td>\n",
       "    </tr>\n",
       "    <tr>\n",
       "      <th>1</th>\n",
       "      <td>French court orders return of deported Uzbek n...</td>\n",
       "      <td>0</td>\n",
       "    </tr>\n",
       "    <tr>\n",
       "      <th>2</th>\n",
       "      <td>Thousands of tons of dead sardines wash ashore...</td>\n",
       "      <td>-1</td>\n",
       "    </tr>\n",
       "    <tr>\n",
       "      <th>3</th>\n",
       "      <td>What's the fastest way to kill yourself?</td>\n",
       "      <td>-1</td>\n",
       "    </tr>\n",
       "    <tr>\n",
       "      <th>4</th>\n",
       "      <td>Hair shaving in dream</td>\n",
       "      <td>1</td>\n",
       "    </tr>\n",
       "  </tbody>\n",
       "</table>\n",
       "</div>"
      ],
      "text/plain": [
       "                                                Post  Sen Label\n",
       "0  For the first time in weeks I'm excited for th...          1\n",
       "1  French court orders return of deported Uzbek n...          0\n",
       "2  Thousands of tons of dead sardines wash ashore...         -1\n",
       "3           What's the fastest way to kill yourself?         -1\n",
       "4                              Hair shaving in dream          1"
      ]
     },
     "execution_count": 394,
     "metadata": {},
     "output_type": "execute_result"
    }
   ],
   "source": [
    "df_sentimented_updated = df_sentimented[[\"Post\", \"Sen Label\"]]\n",
    "df_sentimented_updated.to_csv(\"data_sen.csv\", encoding='utf-8', index=False)\n",
    "df_sentimented_updated.head()"
   ]
  },
  {
   "cell_type": "markdown",
   "metadata": {},
   "source": [
    "### PREPROCESSING"
   ]
  },
  {
   "cell_type": "code",
   "execution_count": 395,
   "metadata": {},
   "outputs": [],
   "source": [
    "# Initialize stopwords and lemmatizer\n",
    "stop_words = set(stopwords.words('english'))\n",
    "lemmatizer = WordNetLemmatizer()"
   ]
  },
  {
   "cell_type": "code",
   "execution_count": 396,
   "metadata": {},
   "outputs": [],
   "source": [
    "# * WE DID TRY CHANGING SLANG BUT IT WAS HAVING AN EFFECT ON THE OUTPUT * #\n",
    "\n",
    "# slang_df = pd.read_csv(\"urbandict-word-defs.csv\", on_bad_lines='skip')\n",
    "# # Create a dictionary from the dataframe\n",
    "# slang_dict = pd.Series(slang_df.definition.values, index=slang_df.word).to_dict()\n",
    "\n",
    "# def r_slang(text, slang_dict):\n",
    "#     # Tokenize the text\n",
    "#     tokens = word_tokenize(text)\n",
    "#     replaced_tokens = []\n",
    "#     for word in tokens:\n",
    "#         if word in slang_dict:\n",
    "#             replaced_tokens.append(slang_dict[word]) # If the word is slang, replace it with its definition\n",
    "#         else:\n",
    "#             replaced_tokens.append(word)\n",
    "#     return ' '.join(replaced_tokens)\n",
    "\n",
    "def r_urls(text): #removing urls function\n",
    "    url_pattern = re.compile(r'https?://\\S+|www\\.\\S+')\n",
    "    return url_pattern.sub(r'', text)\n",
    "\n",
    "def r_html(text): #remving html function\n",
    "    html_pattern = re.compile('<.*?>')\n",
    "    return html_pattern.sub(r'', text)\n",
    "\n",
    "# Emoji expression code\n",
    "emoji_pattern = re.compile(\"[\"\n",
    "                           u\"\\U0001F600-\\U0001F64F\"  # emoticons\n",
    "                           u\"\\U0001F300-\\U0001F5FF\"  # symbols & pictographs\n",
    "                           u\"\\U0001F680-\\U0001F6FF\"  # transport & map symbols\n",
    "                           \"]+\", flags=re.UNICODE)\n",
    "\n",
    "\n",
    "def r_hashtags(text): #removing hashtags function\n",
    "    return re.sub(r'#\\w+', '', text)\n",
    "\n",
    "def r_emojis(text): #removing emojis function\n",
    "    return emoji_pattern.sub(r'', text)\n",
    "\n",
    "#This function is for removing: URLs,HTML tags,hashtags,emojis from the text\n",
    "def preprocess_text(text):\n",
    "    text = text.lower()  \n",
    "    #text = r_slang(text, slang_dict) \n",
    "    text = r_urls(text)  # Remove \n",
    "    text = r_html(text)  # Remove \n",
    "    text = r_hashtags(text)  # Remove \n",
    "    text = r_emojis(text)  # Remove \n",
    "    tokens = word_tokenize(text)     # Tokenization\n",
    "\n",
    "    # Remove stopwords and non-alphanumeric characters\n",
    "    clean_tokens = []\n",
    "    for word in tokens:\n",
    "        if word.isalnum() and word not in stop_words:\n",
    "            clean_tokens.append(word)\n",
    "\n",
    "    # Lemmatization\n",
    "    lemmatized_tokens = []\n",
    "    for word in clean_tokens:\n",
    "        lemmatized_word = lemmatizer.lemmatize(word)\n",
    "        lemmatized_tokens.append(lemmatized_word)\n",
    "\n",
    "    return ' '.join(lemmatized_tokens)"
   ]
  },
  {
   "cell_type": "code",
   "execution_count": 397,
   "metadata": {},
   "outputs": [
    {
     "name": "stderr",
     "output_type": "stream",
     "text": [
      "C:\\Users\\PC\\AppData\\Local\\Temp\\ipykernel_14544\\3964557773.py:4: SettingWithCopyWarning: \n",
      "A value is trying to be set on a copy of a slice from a DataFrame.\n",
      "Try using .loc[row_indexer,col_indexer] = value instead\n",
      "\n",
      "See the caveats in the documentation: https://pandas.pydata.org/pandas-docs/stable/user_guide/indexing.html#returning-a-view-versus-a-copy\n",
      "  df_sentimented_updated['Processed_Post'] = df_sentimented_process['Post'].apply(preprocess_text)\n"
     ]
    },
    {
     "data": {
      "text/html": [
       "<div>\n",
       "<style scoped>\n",
       "    .dataframe tbody tr th:only-of-type {\n",
       "        vertical-align: middle;\n",
       "    }\n",
       "\n",
       "    .dataframe tbody tr th {\n",
       "        vertical-align: top;\n",
       "    }\n",
       "\n",
       "    .dataframe thead th {\n",
       "        text-align: right;\n",
       "    }\n",
       "</style>\n",
       "<table border=\"1\" class=\"dataframe\">\n",
       "  <thead>\n",
       "    <tr style=\"text-align: right;\">\n",
       "      <th></th>\n",
       "      <th>Post</th>\n",
       "      <th>Sen Label</th>\n",
       "      <th>Processed_Post</th>\n",
       "    </tr>\n",
       "  </thead>\n",
       "  <tbody>\n",
       "    <tr>\n",
       "      <th>0</th>\n",
       "      <td>For the first time in weeks I'm excited for th...</td>\n",
       "      <td>1</td>\n",
       "      <td>first time week excited future</td>\n",
       "    </tr>\n",
       "    <tr>\n",
       "      <th>1</th>\n",
       "      <td>French court orders return of deported Uzbek n...</td>\n",
       "      <td>0</td>\n",
       "      <td>french court order return deported uzbek natio...</td>\n",
       "    </tr>\n",
       "    <tr>\n",
       "      <th>2</th>\n",
       "      <td>Thousands of tons of dead sardines wash ashore...</td>\n",
       "      <td>-1</td>\n",
       "      <td>thousand ton dead sardine wash ashore northern...</td>\n",
       "    </tr>\n",
       "    <tr>\n",
       "      <th>3</th>\n",
       "      <td>What's the fastest way to kill yourself?</td>\n",
       "      <td>-1</td>\n",
       "      <td>fastest way kill</td>\n",
       "    </tr>\n",
       "    <tr>\n",
       "      <th>4</th>\n",
       "      <td>Hair shaving in dream</td>\n",
       "      <td>1</td>\n",
       "      <td>hair shaving dream</td>\n",
       "    </tr>\n",
       "  </tbody>\n",
       "</table>\n",
       "</div>"
      ],
      "text/plain": [
       "                                                Post  Sen Label  \\\n",
       "0  For the first time in weeks I'm excited for th...          1   \n",
       "1  French court orders return of deported Uzbek n...          0   \n",
       "2  Thousands of tons of dead sardines wash ashore...         -1   \n",
       "3           What's the fastest way to kill yourself?         -1   \n",
       "4                              Hair shaving in dream          1   \n",
       "\n",
       "                                      Processed_Post  \n",
       "0                     first time week excited future  \n",
       "1  french court order return deported uzbek natio...  \n",
       "2  thousand ton dead sardine wash ashore northern...  \n",
       "3                                   fastest way kill  \n",
       "4                                 hair shaving dream  "
      ]
     },
     "metadata": {},
     "output_type": "display_data"
    }
   ],
   "source": [
    "#preprocessing the actual data\n",
    "df_sentimented_process = df_sentimented[[\"Post\", \"Sen Label\"]].copy()\n",
    "\n",
    "df_sentimented_updated['Processed_Post'] = df_sentimented_process['Post'].apply(preprocess_text)\n",
    "\n",
    "display(df_sentimented_updated.head())\n",
    "\n",
    "# Optionally, save to CSV\n",
    "df_sentimented_updated.to_csv(\"processed_data.csv\", index=False)"
   ]
  },
  {
   "cell_type": "markdown",
   "metadata": {},
   "source": [
    "### FEATURE EXTRACTION"
   ]
  },
  {
   "cell_type": "code",
   "execution_count": 398,
   "metadata": {},
   "outputs": [
    {
     "data": {
      "text/html": [
       "<div>\n",
       "<style scoped>\n",
       "    .dataframe tbody tr th:only-of-type {\n",
       "        vertical-align: middle;\n",
       "    }\n",
       "\n",
       "    .dataframe tbody tr th {\n",
       "        vertical-align: top;\n",
       "    }\n",
       "\n",
       "    .dataframe thead th {\n",
       "        text-align: right;\n",
       "    }\n",
       "</style>\n",
       "<table border=\"1\" class=\"dataframe\">\n",
       "  <thead>\n",
       "    <tr style=\"text-align: right;\">\n",
       "      <th></th>\n",
       "      <th>word</th>\n",
       "      <th>freq</th>\n",
       "    </tr>\n",
       "  </thead>\n",
       "  <tbody>\n",
       "    <tr>\n",
       "      <th>1529</th>\n",
       "      <td>dream</td>\n",
       "      <td>596</td>\n",
       "    </tr>\n",
       "    <tr>\n",
       "      <th>2219</th>\n",
       "      <td>happy</td>\n",
       "      <td>249</td>\n",
       "    </tr>\n",
       "    <tr>\n",
       "      <th>5241</th>\n",
       "      <td>year</td>\n",
       "      <td>205</td>\n",
       "    </tr>\n",
       "    <tr>\n",
       "      <th>1289</th>\n",
       "      <td>day</td>\n",
       "      <td>137</td>\n",
       "    </tr>\n",
       "    <tr>\n",
       "      <th>2782</th>\n",
       "      <td>life</td>\n",
       "      <td>121</td>\n",
       "    </tr>\n",
       "    <tr>\n",
       "      <th>1974</th>\n",
       "      <td>friend</td>\n",
       "      <td>116</td>\n",
       "    </tr>\n",
       "    <tr>\n",
       "      <th>2792</th>\n",
       "      <td>like</td>\n",
       "      <td>111</td>\n",
       "    </tr>\n",
       "    <tr>\n",
       "      <th>4766</th>\n",
       "      <td>today</td>\n",
       "      <td>107</td>\n",
       "    </tr>\n",
       "    <tr>\n",
       "      <th>1842</th>\n",
       "      <td>feel</td>\n",
       "      <td>106</td>\n",
       "    </tr>\n",
       "    <tr>\n",
       "      <th>1887</th>\n",
       "      <td>first</td>\n",
       "      <td>105</td>\n",
       "    </tr>\n",
       "  </tbody>\n",
       "</table>\n",
       "</div>"
      ],
      "text/plain": [
       "        word  freq\n",
       "1529   dream   596\n",
       "2219   happy   249\n",
       "5241    year   205\n",
       "1289     day   137\n",
       "2782    life   121\n",
       "1974  friend   116\n",
       "2792    like   111\n",
       "4766   today   107\n",
       "1842    feel   106\n",
       "1887   first   105"
      ]
     },
     "execution_count": 398,
     "metadata": {},
     "output_type": "execute_result"
    }
   ],
   "source": [
    "processed_posts = df_sentimented_updated['Processed_Post']\n",
    "\n",
    "# Create a Bag-of-Words vectorizer\n",
    "vectorizer = CountVectorizer()\n",
    "\n",
    "# Fit and transform your preprocessed posts\n",
    "bow_features = vectorizer.fit_transform(processed_posts)\n",
    "word_freq = np.sum(bow_features.toarray(), axis=0)\n",
    "#making a dataframe for unique words and their frequency and give the top 10\n",
    "word_freq_df = pd.DataFrame({'word': vectorizer.get_feature_names_out(), 'freq': word_freq}).nlargest(10, 'freq')\n",
    "\n",
    "word_freq_df.head(10)\n"
   ]
  },
  {
   "cell_type": "code",
   "execution_count": 399,
   "metadata": {},
   "outputs": [
    {
     "data": {
      "text/html": [
       "<div>\n",
       "<style scoped>\n",
       "    .dataframe tbody tr th:only-of-type {\n",
       "        vertical-align: middle;\n",
       "    }\n",
       "\n",
       "    .dataframe tbody tr th {\n",
       "        vertical-align: top;\n",
       "    }\n",
       "\n",
       "    .dataframe thead th {\n",
       "        text-align: right;\n",
       "    }\n",
       "</style>\n",
       "<table border=\"1\" class=\"dataframe\">\n",
       "  <thead>\n",
       "    <tr style=\"text-align: right;\">\n",
       "      <th></th>\n",
       "      <th>word</th>\n",
       "      <th>tfidf</th>\n",
       "    </tr>\n",
       "  </thead>\n",
       "  <tbody>\n",
       "    <tr>\n",
       "      <th>1529</th>\n",
       "      <td>dream</td>\n",
       "      <td>0.045133</td>\n",
       "    </tr>\n",
       "    <tr>\n",
       "      <th>2219</th>\n",
       "      <td>happy</td>\n",
       "      <td>0.015741</td>\n",
       "    </tr>\n",
       "    <tr>\n",
       "      <th>5241</th>\n",
       "      <td>year</td>\n",
       "      <td>0.013571</td>\n",
       "    </tr>\n",
       "    <tr>\n",
       "      <th>2782</th>\n",
       "      <td>life</td>\n",
       "      <td>0.011138</td>\n",
       "    </tr>\n",
       "    <tr>\n",
       "      <th>1974</th>\n",
       "      <td>friend</td>\n",
       "      <td>0.010179</td>\n",
       "    </tr>\n",
       "    <tr>\n",
       "      <th>1289</th>\n",
       "      <td>day</td>\n",
       "      <td>0.009598</td>\n",
       "    </tr>\n",
       "    <tr>\n",
       "      <th>5137</th>\n",
       "      <td>weird</td>\n",
       "      <td>0.009210</td>\n",
       "    </tr>\n",
       "    <tr>\n",
       "      <th>1842</th>\n",
       "      <td>feel</td>\n",
       "      <td>0.008873</td>\n",
       "    </tr>\n",
       "    <tr>\n",
       "      <th>2275</th>\n",
       "      <td>help</td>\n",
       "      <td>0.008767</td>\n",
       "    </tr>\n",
       "    <tr>\n",
       "      <th>2792</th>\n",
       "      <td>like</td>\n",
       "      <td>0.008497</td>\n",
       "    </tr>\n",
       "  </tbody>\n",
       "</table>\n",
       "</div>"
      ],
      "text/plain": [
       "        word     tfidf\n",
       "1529   dream  0.045133\n",
       "2219   happy  0.015741\n",
       "5241    year  0.013571\n",
       "2782    life  0.011138\n",
       "1974  friend  0.010179\n",
       "1289     day  0.009598\n",
       "5137   weird  0.009210\n",
       "1842    feel  0.008873\n",
       "2275    help  0.008767\n",
       "2792    like  0.008497"
      ]
     },
     "execution_count": 399,
     "metadata": {},
     "output_type": "execute_result"
    }
   ],
   "source": [
    "# Create a TF-IDF vectorizer\n",
    "tfidf_vectorizer = TfidfVectorizer()\n",
    "\n",
    "# Fit and transform your preprocessed posts\n",
    "tfidf_features = tfidf_vectorizer.fit_transform(processed_posts)\n",
    "# tfidf_features is now a sparse matrix containing TF-IDF features for your dataset\n",
    "\n",
    "tfidf_means = np.mean(tfidf_features.toarray(), axis=0)\n",
    "#making a dataframe for unique words and their frequency and give the top 10\n",
    "tfidf_df = pd.DataFrame({'word': tfidf_vectorizer.get_feature_names_out(), 'tfidf': tfidf_means}).nlargest(10, 'tfidf')\n",
    "tfidf_df.head(10)"
   ]
  },
  {
   "cell_type": "code",
   "execution_count": 400,
   "metadata": {},
   "outputs": [
    {
     "name": "stdout",
     "output_type": "stream",
     "text": [
      "Cosine Similarity (Word2Vec):\n",
      "array([[1.        , 0.72403318, 0.76821133, ..., 0.92300521, 0.79844115,\n",
      "        0.92294876],\n",
      "       [0.72403318, 1.        , 0.81670066, ..., 0.69273225, 0.59552982,\n",
      "        0.74945196],\n",
      "       [0.76821133, 0.81670066, 1.        , ..., 0.8196249 , 0.76671805,\n",
      "        0.79123753],\n",
      "       ...,\n",
      "       [0.92300521, 0.69273225, 0.8196249 , ..., 1.        , 0.90882197,\n",
      "        0.94945542],\n",
      "       [0.79844115, 0.59552982, 0.76671805, ..., 0.90882197, 1.        ,\n",
      "        0.86922563],\n",
      "       [0.92294876, 0.74945196, 0.79123753, ..., 0.94945542, 0.86922563,\n",
      "        1.        ]])\n"
     ]
    }
   ],
   "source": [
    "# Load pre-trained Word2Vec embeddings\n",
    "word2vec_model = api.load(\"glove-twitter-25\")\n",
    "\n",
    "# Function to vectorize a sentence into an embedding\n",
    "def document_vector(doc):\n",
    "    words_in_doc = doc.split()\n",
    "    valid_words = []\n",
    "    for word in words_in_doc:\n",
    "        if word in word2vec_model.key_to_index:  # Checking if the word is in the model's vocabulary\n",
    "            valid_words.append(word)  # If the word is valid append it\n",
    "\n",
    "    # Check if there are valid words in the document and return their vector mean\n",
    "    if valid_words:\n",
    "        return np.mean(word2vec_model[valid_words], axis=0)\n",
    "    else:\n",
    "        return np.zeros(word2vec_model.vector_size)\n",
    "\n",
    "# Applying the function over here\n",
    "word2vec_features = df_sentimented_updated['Processed_Post'].apply(document_vector)\n",
    "word2vec_f = np.array([document_vector(post) for post in processed_posts])\n",
    "cosine_sim_word2vec = cosine_similarity(word2vec_f)\n",
    "print(\"Cosine Similarity (Word2Vec):\")\n",
    "pprint(cosine_sim_word2vec)\n",
    "\n",
    "word2vec_features.to_csv(\"processed_featuredata.csv\", index=False)"
   ]
  },
  {
   "cell_type": "markdown",
   "metadata": {},
   "source": [
    "### MODEL SELECTION AND TRAINING"
   ]
  },
  {
   "cell_type": "code",
   "execution_count": 401,
   "metadata": {},
   "outputs": [],
   "source": [
    "# Split the dataset\n",
    "X_train, X_test, y_train, y_test = train_test_split(tfidf_features, df_sentimented_updated['Sen Label'], test_size=0.2, random_state=50)\n"
   ]
  },
  {
   "cell_type": "code",
   "execution_count": 402,
   "metadata": {},
   "outputs": [
    {
     "data": {
      "text/html": [
       "<style>#sk-container-id-16 {color: black;}#sk-container-id-16 pre{padding: 0;}#sk-container-id-16 div.sk-toggleable {background-color: white;}#sk-container-id-16 label.sk-toggleable__label {cursor: pointer;display: block;width: 100%;margin-bottom: 0;padding: 0.3em;box-sizing: border-box;text-align: center;}#sk-container-id-16 label.sk-toggleable__label-arrow:before {content: \"▸\";float: left;margin-right: 0.25em;color: #696969;}#sk-container-id-16 label.sk-toggleable__label-arrow:hover:before {color: black;}#sk-container-id-16 div.sk-estimator:hover label.sk-toggleable__label-arrow:before {color: black;}#sk-container-id-16 div.sk-toggleable__content {max-height: 0;max-width: 0;overflow: hidden;text-align: left;background-color: #f0f8ff;}#sk-container-id-16 div.sk-toggleable__content pre {margin: 0.2em;color: black;border-radius: 0.25em;background-color: #f0f8ff;}#sk-container-id-16 input.sk-toggleable__control:checked~div.sk-toggleable__content {max-height: 200px;max-width: 100%;overflow: auto;}#sk-container-id-16 input.sk-toggleable__control:checked~label.sk-toggleable__label-arrow:before {content: \"▾\";}#sk-container-id-16 div.sk-estimator input.sk-toggleable__control:checked~label.sk-toggleable__label {background-color: #d4ebff;}#sk-container-id-16 div.sk-label input.sk-toggleable__control:checked~label.sk-toggleable__label {background-color: #d4ebff;}#sk-container-id-16 input.sk-hidden--visually {border: 0;clip: rect(1px 1px 1px 1px);clip: rect(1px, 1px, 1px, 1px);height: 1px;margin: -1px;overflow: hidden;padding: 0;position: absolute;width: 1px;}#sk-container-id-16 div.sk-estimator {font-family: monospace;background-color: #f0f8ff;border: 1px dotted black;border-radius: 0.25em;box-sizing: border-box;margin-bottom: 0.5em;}#sk-container-id-16 div.sk-estimator:hover {background-color: #d4ebff;}#sk-container-id-16 div.sk-parallel-item::after {content: \"\";width: 100%;border-bottom: 1px solid gray;flex-grow: 1;}#sk-container-id-16 div.sk-label:hover label.sk-toggleable__label {background-color: #d4ebff;}#sk-container-id-16 div.sk-serial::before {content: \"\";position: absolute;border-left: 1px solid gray;box-sizing: border-box;top: 0;bottom: 0;left: 50%;z-index: 0;}#sk-container-id-16 div.sk-serial {display: flex;flex-direction: column;align-items: center;background-color: white;padding-right: 0.2em;padding-left: 0.2em;position: relative;}#sk-container-id-16 div.sk-item {position: relative;z-index: 1;}#sk-container-id-16 div.sk-parallel {display: flex;align-items: stretch;justify-content: center;background-color: white;position: relative;}#sk-container-id-16 div.sk-item::before, #sk-container-id-16 div.sk-parallel-item::before {content: \"\";position: absolute;border-left: 1px solid gray;box-sizing: border-box;top: 0;bottom: 0;left: 50%;z-index: -1;}#sk-container-id-16 div.sk-parallel-item {display: flex;flex-direction: column;z-index: 1;position: relative;background-color: white;}#sk-container-id-16 div.sk-parallel-item:first-child::after {align-self: flex-end;width: 50%;}#sk-container-id-16 div.sk-parallel-item:last-child::after {align-self: flex-start;width: 50%;}#sk-container-id-16 div.sk-parallel-item:only-child::after {width: 0;}#sk-container-id-16 div.sk-dashed-wrapped {border: 1px dashed gray;margin: 0 0.4em 0.5em 0.4em;box-sizing: border-box;padding-bottom: 0.4em;background-color: white;}#sk-container-id-16 div.sk-label label {font-family: monospace;font-weight: bold;display: inline-block;line-height: 1.2em;}#sk-container-id-16 div.sk-label-container {text-align: center;}#sk-container-id-16 div.sk-container {/* jupyter's `normalize.less` sets `[hidden] { display: none; }` but bootstrap.min.css set `[hidden] { display: none !important; }` so we also need the `!important` here to be able to override the default hidden behavior on the sphinx rendered scikit-learn.org. See: https://github.com/scikit-learn/scikit-learn/issues/21755 */display: inline-block !important;position: relative;}#sk-container-id-16 div.sk-text-repr-fallback {display: none;}</style><div id=\"sk-container-id-16\" class=\"sk-top-container\"><div class=\"sk-text-repr-fallback\"><pre>SVC()</pre><b>In a Jupyter environment, please rerun this cell to show the HTML representation or trust the notebook. <br />On GitHub, the HTML representation is unable to render, please try loading this page with nbviewer.org.</b></div><div class=\"sk-container\" hidden><div class=\"sk-item\"><div class=\"sk-estimator sk-toggleable\"><input class=\"sk-toggleable__control sk-hidden--visually\" id=\"sk-estimator-id-16\" type=\"checkbox\" checked><label for=\"sk-estimator-id-16\" class=\"sk-toggleable__label sk-toggleable__label-arrow\">SVC</label><div class=\"sk-toggleable__content\"><pre>SVC()</pre></div></div></div></div></div>"
      ],
      "text/plain": [
       "SVC()"
      ]
     },
     "execution_count": 402,
     "metadata": {},
     "output_type": "execute_result"
    }
   ],
   "source": [
    "# Initialize the SVM model\n",
    "svm_model = SVC()\n",
    "\n",
    "# Train the model with the training data\n",
    "svm_model.fit(X_train, y_train)\n"
   ]
  },
  {
   "cell_type": "code",
   "execution_count": 403,
   "metadata": {},
   "outputs": [
    {
     "name": "stdout",
     "output_type": "stream",
     "text": [
      "Training Performance:\n",
      "              precision    recall  f1-score   support\n",
      "\n",
      "          -1       0.99      0.98      0.99       653\n",
      "           0       0.99      0.98      0.98       900\n",
      "           1       0.98      1.00      0.99      1105\n",
      "\n",
      "    accuracy                           0.99      2658\n",
      "   macro avg       0.99      0.98      0.99      2658\n",
      "weighted avg       0.99      0.99      0.99      2658\n",
      "\n",
      "Testing Performance:\n",
      "              precision    recall  f1-score   support\n",
      "\n",
      "          -1       0.88      0.38      0.53       157\n",
      "           0       0.59      0.84      0.70       238\n",
      "           1       0.80      0.77      0.78       270\n",
      "\n",
      "    accuracy                           0.70       665\n",
      "   macro avg       0.76      0.66      0.67       665\n",
      "weighted avg       0.75      0.70      0.69       665\n",
      "\n"
     ]
    }
   ],
   "source": [
    "#Make predictions on the training set and test set\n",
    "y_train_pred = svm_model.predict(X_train)\n",
    "y_test_pred = svm_model.predict(X_test)\n",
    "\n",
    "#Evaluate the performance\n",
    "print(\"Training Performance:\")\n",
    "print(classification_report(y_train, y_train_pred))\n",
    "\n",
    "print(\"Testing Performance:\")\n",
    "print(classification_report(y_test, y_test_pred))\n"
   ]
  },
  {
   "cell_type": "code",
   "execution_count": 404,
   "metadata": {},
   "outputs": [
    {
     "data": {
      "image/png": "[encoded data removed]",
      "text/plain": [
       "<Figure size 800x600 with 1 Axes>"
      ]
     },
     "metadata": {},
     "output_type": "display_data"
    }
   ],
   "source": [
    "classes = ['Negative', 'Neutral', 'Positive']\n",
    "confusion = confusion_matrix(y_test, y_test_pred)\n",
    "# Create a heatmap for the confusion matrix\n",
    "plt.figure(figsize=(8, 6))\n",
    "sns.heatmap(confusion, annot=True, fmt='d', cmap='Blues', cbar=False, square=True, xticklabels=classes, yticklabels=classes)\n",
    "plt.xlabel('Predicted')\n",
    "plt.ylabel('True')\n",
    "plt.title('Confusion Matrix')\n",
    "plt.show()"
   ]
  },
  {
   "cell_type": "code",
   "execution_count": 405,
   "metadata": {},
   "outputs": [
    {
     "data": {
      "text/plain": [
       "['tfidf_vectorizer.pkl']"
      ]
     },
     "execution_count": 405,
     "metadata": {},
     "output_type": "execute_result"
    }
   ],
   "source": [
    "import joblib\n",
    "joblib.dump(svm_model, 'svm_model.pkl')\n",
    "joblib.dump(tfidf_vectorizer, 'tfidf_vectorizer.pkl')\n"
   ]
  }
 ],
 "metadata": {
  "kernelspec": {
   "display_name": "Python 3",
   "language": "python",
   "name": "python3"
  },
  "language_info": {
   "codemirror_mode": {
    "name": "ipython",
    "version": 3
   },
   "file_extension": ".py",
   "mimetype": "text/x-python",
   "name": "python",
   "nbconvert_exporter": "python",
   "pygments_lexer": "ipython3",
   "version": "3.11.0"
  }
 },
 "nbformat": 4,
 "nbformat_minor": 2
}
